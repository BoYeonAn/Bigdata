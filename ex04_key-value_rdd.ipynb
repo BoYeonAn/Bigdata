{
 "cells": [
  {
   "cell_type": "markdown",
   "metadata": {},
   "source": [
    "## Spark 설정하기\n",
    "1. SparkConf, SparkContext, pandas 임포트\n",
    "2. SparkConf 객체 생성 및 설정\n",
    "3. SparkContext 객체 생성"
   ]
  },
  {
   "cell_type": "markdown",
   "metadata": {},
   "source": [
    "## Key-Value RDD 연산 예제\n",
    "1. Python List로부터 RDD 객체 생성: SparkContext.parallelize() \n",
    "2. Single Value RDD에서 Key-Value RDD로 변환: RDD.map() \n",
    "3. Key-Value RDD 값 세기: RDD.reduceByKey() "
   ]
  },
  {
   "cell_type": "code",
   "execution_count": null,
   "metadata": {},
   "outputs": [],
   "source": [
    "rdd = sc.parallelize([\n",
    "    '2020-03-01', '2020-03-01', '2020-03-01',\n",
    "    '2020-03-02',\n",
    "    '2020-03-03', '2020-03-03'\n",
    "])\n"
   ]
  },
  {
   "cell_type": "markdown",
   "metadata": {},
   "source": [
    "## Restaurant 예제\n",
    ": 식당 유형 별 평균 리뷰 수를 계산\n",
    "1. csv 파일로부터 RDD 생성: SparkContext.textFile() \n",
    "2. RDD 헤더 부분 변수에 저장: RDD.first() \n",
    "3. 헤더만 제거된 RDD로 변환: RDD.filter(lambda ...)\n",
    "4. category와 reviews 값을 추출하는 함수 정의\n",
    "5. category, reviews로 구성된 RDD로 변환: RDD.map()\n",
    "6. Key: category, Value: (reviews, 1)로 구성된 Key-Value RDD로 변환: RDD.mapValues()\n",
    "7. Key 를 기준으로 reduction: RDD.reduceByKey()\n",
    "8. Key 별 평균 reviews 계산: RDD.mapValues()"
   ]
  },
  {
   "cell_type": "code",
   "execution_count": null,
   "metadata": {},
   "outputs": [],
   "source": [
    "filename = \"restaurant_reviews.csv\""
   ]
  },
  {
   "cell_type": "markdown",
   "metadata": {},
   "source": [
    "#### pyspark.RDD.collect(): RDD의 내용을 출력"
   ]
  },
  {
   "cell_type": "code",
   "execution_count": null,
   "metadata": {},
   "outputs": [],
   "source": [
    "\"\"\"\n",
    "    Another method without \"parse\" function\n",
    "\"\"\"\n",
    "\n",
    "paired = filtered_lines.map(lambda x: (x.split(',')[2], (int(x.split(',')[3]), 1)))"
   ]
  }
 ],
 "metadata": {
  "kernelspec": {
   "display_name": "Python 3",
   "language": "python",
   "name": "python3"
  },
  "language_info": {
   "codemirror_mode": {
    "name": "ipython",
    "version": 3
   },
   "file_extension": ".py",
   "mimetype": "text/x-python",
   "name": "python",
   "nbconvert_exporter": "python",
   "pygments_lexer": "ipython3",
   "version": "3.8.8"
  }
 },
 "nbformat": 4,
 "nbformat_minor": 4
}
