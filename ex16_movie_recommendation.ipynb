{
 "cells": [
  {
   "cell_type": "code",
   "execution_count": 2,
   "id": "971b960d",
   "metadata": {},
   "outputs": [],
   "source": [
    "# [+] SparkSession 설정\n",
    "from pyspark.sql import SparkSession\n",
    "ss = SparkSession.builder.master('local').appName('movie_recommendation').getOrCreate()"
   ]
  },
  {
   "cell_type": "code",
   "execution_count": 3,
   "id": "454ba123",
   "metadata": {
    "scrolled": true
   },
   "outputs": [],
   "source": [
    "# [+] movielens 데이터 불러오기( csv -> DataFrame)\n",
    "# ratings_short.csv: 원본 데이터에서 7만개의 평점 데이터만 선택한 버전\n",
    "\n",
    "ratings_df = ss.read.csv('./data/ratings_short.csv',header=True, inferSchema = True)"
   ]
  },
  {
   "cell_type": "code",
   "execution_count": 4,
   "id": "569c537b",
   "metadata": {},
   "outputs": [
    {
     "name": "stdout",
     "output_type": "stream",
     "text": [
      "+------+-------+------+----------+\n",
      "|userId|movieId|rating| timestamp|\n",
      "+------+-------+------+----------+\n",
      "|     1|    296|   5.0|1147880044|\n",
      "|     1|    306|   3.5|1147868817|\n",
      "|     1|    307|   5.0|1147868828|\n",
      "|     1|    665|   5.0|1147878820|\n",
      "|     1|    899|   3.5|1147868510|\n",
      "|     1|   1088|   4.0|1147868495|\n",
      "|     1|   1175|   3.5|1147868826|\n",
      "|     1|   1217|   3.5|1147878326|\n",
      "|     1|   1237|   5.0|1147868839|\n",
      "|     1|   1250|   4.0|1147868414|\n",
      "|     1|   1260|   3.5|1147877857|\n",
      "|     1|   1653|   4.0|1147868097|\n",
      "|     1|   2011|   2.5|1147868079|\n",
      "|     1|   2012|   2.5|1147868068|\n",
      "|     1|   2068|   2.5|1147869044|\n",
      "|     1|   2161|   3.5|1147868609|\n",
      "|     1|   2351|   4.5|1147877957|\n",
      "|     1|   2573|   4.0|1147878923|\n",
      "|     1|   2632|   5.0|1147878248|\n",
      "|     1|   2692|   5.0|1147869100|\n",
      "+------+-------+------+----------+\n",
      "only showing top 20 rows\n",
      "\n"
     ]
    }
   ],
   "source": [
    "ratings_df.show()"
   ]
  },
  {
   "cell_type": "code",
   "execution_count": 6,
   "id": "f4f06e0e",
   "metadata": {},
   "outputs": [
    {
     "name": "stdout",
     "output_type": "stream",
     "text": [
      "root\n",
      " |-- userId: integer (nullable = true)\n",
      " |-- movieId: integer (nullable = true)\n",
      " |-- rating: double (nullable = true)\n",
      " |-- timestamp: integer (nullable = true)\n",
      "\n"
     ]
    }
   ],
   "source": [
    "ratings_df.printSchema()"
   ]
  },
  {
   "cell_type": "code",
   "execution_count": 7,
   "id": "d0c85caf",
   "metadata": {},
   "outputs": [],
   "source": [
    "# [+] 타임스탬프 제외한 컬럼 선택\n",
    "ratings_df = ratings_df.select(['userId', 'movieId', 'rating'])"
   ]
  },
  {
   "cell_type": "code",
   "execution_count": 8,
   "id": "5197bcb0",
   "metadata": {},
   "outputs": [
    {
     "name": "stdout",
     "output_type": "stream",
     "text": [
      "+-------+------------------+-----------------+------------------+\n",
      "|summary|            userId|          movieId|            rating|\n",
      "+-------+------------------+-----------------+------------------+\n",
      "|  count|             71921|            71921|             71921|\n",
      "|   mean| 283.8726241292529|21643.63890935888|3.5821387355570695|\n",
      "| stddev|167.23649146725324|38820.78314308897| 1.042406032579843|\n",
      "|    min|                 1|                1|               0.5|\n",
      "|    max|               550|           205106|               5.0|\n",
      "+-------+------------------+-----------------+------------------+\n",
      "\n"
     ]
    }
   ],
   "source": [
    "# [+] describe(): 기본 통계치 출력\n",
    "ratings_df.describe().show()"
   ]
  },
  {
   "cell_type": "code",
   "execution_count": 9,
   "id": "335697ff",
   "metadata": {},
   "outputs": [],
   "source": [
    "# [+] randomSplit(): 훈련 데이터셋과 테스트 데이터셋을 나누기\n",
    "tranin_df, test_df = ratings_df.randomSplit([0.8, 0.2])"
   ]
  },
  {
   "cell_type": "code",
   "execution_count": 10,
   "id": "363c5ded",
   "metadata": {},
   "outputs": [],
   "source": [
    "# [+] 추천 알고리즘(Alternating Least Squares) 임포트\n",
    "# pyspark.ml.recommendation.ALSf\n",
    "from pyspark.ml.recommendation import ALS"
   ]
  },
  {
   "cell_type": "code",
   "execution_count": 11,
   "id": "86364949",
   "metadata": {},
   "outputs": [],
   "source": [
    "# 추천 알고리즘 설정\n",
    "\n",
    "als = ALS(\n",
    "    maxIter=5,\n",
    "    regParam=0.1,\n",
    "    userCol='userId',\n",
    "    itemCol='movieId',\n",
    "    ratingCol='rating',\n",
    "    coldStartStrategy='drop'\n",
    ")"
   ]
  },
  {
   "cell_type": "code",
   "execution_count": 12,
   "id": "f6b1ba43",
   "metadata": {},
   "outputs": [],
   "source": [
    "# [+] 모델 학습\n",
    "model = als.fit(tranin_df)"
   ]
  },
  {
   "cell_type": "code",
   "execution_count": null,
   "id": "7b9d95c9",
   "metadata": {},
   "outputs": [],
   "source": [
    "# # 메모리 부족으로 인한 오류 발생시, 아래의 코드를 실행\n",
    "# from pyspark.sql import SparkSession\n",
    "\n",
    "# MAX_MEMORY = '5g'\n",
    "# ss = SparkSession.builder.appName('movie-recommendation')\\\n",
    "#     .config('spark.executor.memory', MAX_MEMORY)\\\n",
    "#     .config('spark.driver.memory', MAX_MEMORY)\\\n",
    "#     .getOrCreate()"
   ]
  },
  {
   "cell_type": "code",
   "execution_count": 13,
   "id": "9c0ccda4",
   "metadata": {},
   "outputs": [],
   "source": [
    "# [+] 모델 예측\n",
    "predictions = model.transform(test_df)"
   ]
  },
  {
   "cell_type": "code",
   "execution_count": 14,
   "id": "de9ebac7",
   "metadata": {},
   "outputs": [
    {
     "name": "stdout",
     "output_type": "stream",
     "text": [
      "+------+-------+------+----------+\n",
      "|userId|movieId|rating|prediction|\n",
      "+------+-------+------+----------+\n",
      "|   148|     32|   4.0| 3.9888577|\n",
      "|   148|     50|   4.5| 4.4863024|\n",
      "|   148|    296|   5.0| 4.1451836|\n",
      "|   148|    899|   4.0| 4.0523167|\n",
      "|   148|    953|   4.0|  4.375654|\n",
      "|   148|   1089|   4.5|  4.134958|\n",
      "|   148|   1136|   4.5|  4.249985|\n",
      "|   148|   1193|   4.5| 4.2548003|\n",
      "|   148|   1206|   4.0| 4.0005383|\n",
      "|   148|   1208|   5.0| 4.2468276|\n",
      "|   148|   1212|   4.0| 4.3853817|\n",
      "|   148|   1213|   4.5| 4.1827016|\n",
      "|   148|   1225|   4.0| 3.8674154|\n",
      "|   148|   1260|   4.0|  4.458582|\n",
      "|   148|   2186|   4.0|  4.010993|\n",
      "|   148|   2324|   5.0|  4.013653|\n",
      "|   148|   2858|   4.0| 4.1816654|\n",
      "|   148|   3949|   4.0| 3.9243815|\n",
      "|   148|   6016|   4.5|   4.28027|\n",
      "|   148|   7132|   4.0| 3.7809455|\n",
      "+------+-------+------+----------+\n",
      "only showing top 20 rows\n",
      "\n"
     ]
    }
   ],
   "source": [
    "predictions.show()"
   ]
  },
  {
   "cell_type": "code",
   "execution_count": 15,
   "id": "5436cc97",
   "metadata": {},
   "outputs": [
    {
     "name": "stdout",
     "output_type": "stream",
     "text": [
      "+-------+------------------+------------------+\n",
      "|summary|            rating|        prediction|\n",
      "+-------+------------------+------------------+\n",
      "|  count|             13531|             13531|\n",
      "|   mean|3.5914936072721897|3.4139634650931567|\n",
      "| stddev| 1.045747059101007|0.7680652229693378|\n",
      "|    min|               0.5|       -0.11807555|\n",
      "|    max|               5.0|          5.686183|\n",
      "+-------+------------------+------------------+\n",
      "\n"
     ]
    }
   ],
   "source": [
    "# [+] 평점과 예측평점에 대한 통계 출력\n",
    "predictions.select(['rating', 'prediction']).describe().show()"
   ]
  },
  {
   "cell_type": "code",
   "execution_count": 16,
   "id": "1cb08cc8",
   "metadata": {},
   "outputs": [],
   "source": [
    "# 모델 성능 평가: RMSE(Root Mean Squared Error)\n",
    "from pyspark.ml.evaluation import RegressionEvaluator\n",
    "\n",
    "evaluator = RegressionEvaluator(\n",
    "    metricName='rmse',\n",
    "    labelCol='rating',\n",
    "    predictionCol='prediction'\n",
    ")"
   ]
  },
  {
   "cell_type": "code",
   "execution_count": 17,
   "id": "14effc20",
   "metadata": {},
   "outputs": [],
   "source": [
    "# [+] RMSE 측정\n",
    "rmse = evaluator.evaluate(predictions)"
   ]
  },
  {
   "cell_type": "code",
   "execution_count": 18,
   "id": "befef509",
   "metadata": {},
   "outputs": [
    {
     "data": {
      "text/plain": [
       "0.9209835838244532"
      ]
     },
     "execution_count": 18,
     "metadata": {},
     "output_type": "execute_result"
    }
   ],
   "source": [
    "rmse"
   ]
  },
  {
   "cell_type": "code",
   "execution_count": 23,
   "id": "03c1338a",
   "metadata": {},
   "outputs": [
    {
     "name": "stdout",
     "output_type": "stream",
     "text": [
      "+------+--------------------+\n",
      "|userId|     recommendations|\n",
      "+------+--------------------+\n",
      "|     1|[{3881, 5.4032674...|\n",
      "|     2|[{6946, 6.7859387...|\n",
      "|     3|[{3881, 5.355999}...|\n",
      "|     4|[{135456, 5.33314...|\n",
      "|     5|[{7156, 4.938036}...|\n",
      "|     6|[{32657, 5.652089...|\n",
      "|     7|[{68522, 5.141847...|\n",
      "|     8|[{671, 5.115135},...|\n",
      "|     9|[{63, 5.569787}, ...|\n",
      "|    10|[{71530, 4.965937...|\n",
      "|    11|[{4833, 5.5037208...|\n",
      "|    12|[{26758, 4.942486...|\n",
      "|    13|[{135456, 5.13247...|\n",
      "|    14|[{3881, 5.704973}...|\n",
      "|    15|[{3881, 6.100778}...|\n",
      "|    16|[{3881, 5.265323}...|\n",
      "|    17|[{68848, 5.011752...|\n",
      "|    18|[{6946, 4.751473}...|\n",
      "|    19|[{135456, 4.96559...|\n",
      "|    20|[{136449, 5.69359...|\n",
      "+------+--------------------+\n",
      "only showing top 20 rows\n",
      "\n"
     ]
    }
   ],
   "source": [
    "# [+] 학습된 모델을 이용하여 유저별 아이템을 3개씩 추천\n",
    "model.recommendForAllUsers(3).show()"
   ]
  },
  {
   "cell_type": "code",
   "execution_count": 24,
   "id": "2a9a3fb2",
   "metadata": {},
   "outputs": [
    {
     "name": "stdout",
     "output_type": "stream",
     "text": [
      "+-------+--------------------+\n",
      "|movieId|     recommendations|\n",
      "+-------+--------------------+\n",
      "|      1|[{327, 5.2821536}...|\n",
      "|      2|[{199, 4.366313},...|\n",
      "|      3|[{49, 4.958502}, ...|\n",
      "|      4|[{173, 4.1040187}...|\n",
      "|      5|[{484, 4.7130713}...|\n",
      "|      6|[{240, 5.135149},...|\n",
      "|      7|[{451, 4.656458},...|\n",
      "|      8|[{451, 4.63204}, ...|\n",
      "|      9|[{153, 4.4080954}...|\n",
      "|     10|[{327, 4.8133354}...|\n",
      "|     11|[{22, 5.218604}, ...|\n",
      "|     12|[{360, 2.8838553}...|\n",
      "|     13|[{327, 5.456308},...|\n",
      "|     14|[{153, 4.505759},...|\n",
      "|     15|[{451, 4.0446343}...|\n",
      "|     16|[{317, 5.1590037}...|\n",
      "|     17|[{317, 5.424387},...|\n",
      "|     18|[{117, 4.823543},...|\n",
      "|     19|[{254, 4.7298284}...|\n",
      "|     20|[{484, 4.6696944}...|\n",
      "+-------+--------------------+\n",
      "only showing top 20 rows\n",
      "\n"
     ]
    }
   ],
   "source": [
    "# [+] 학습된 모델을 이용하여 아이템별 유저를 3명씩 추천\n",
    "model.recommendForAllItems(3).show()"
   ]
  },
  {
   "cell_type": "code",
   "execution_count": 25,
   "id": "76efad6e",
   "metadata": {},
   "outputs": [],
   "source": [
    "# 특정 유저 선택\n",
    "user_lst = [1]"
   ]
  },
  {
   "cell_type": "code",
   "execution_count": 28,
   "id": "a7d0571c",
   "metadata": {},
   "outputs": [],
   "source": [
    "from pyspark.sql.types import IntegerType"
   ]
  },
  {
   "cell_type": "code",
   "execution_count": 29,
   "id": "4b426b62",
   "metadata": {},
   "outputs": [],
   "source": [
    "# 데이터프레임생성\n",
    "users_df = ss.createDataFrame(user_lst, IntegerType()).toDF('userID')"
   ]
  },
  {
   "cell_type": "code",
   "execution_count": 30,
   "id": "4f7f98fc",
   "metadata": {},
   "outputs": [
    {
     "name": "stdout",
     "output_type": "stream",
     "text": [
      "+------+\n",
      "|userID|\n",
      "+------+\n",
      "|     1|\n",
      "+------+\n",
      "\n"
     ]
    }
   ],
   "source": [
    "users_df.show()"
   ]
  },
  {
   "cell_type": "code",
   "execution_count": 31,
   "id": "913be721",
   "metadata": {},
   "outputs": [],
   "source": [
    "# recommendForUserSubset(): 특정 유저 그룹에 대한 아이템 추천\n",
    "user_recs = model.recommendForUserSubset(users_df, 5)"
   ]
  },
  {
   "cell_type": "code",
   "execution_count": 32,
   "id": "121f0d92",
   "metadata": {},
   "outputs": [
    {
     "name": "stdout",
     "output_type": "stream",
     "text": [
      "+------+--------------------+\n",
      "|userId|     recommendations|\n",
      "+------+--------------------+\n",
      "|     1|[{3881, 5.4032674...|\n",
      "+------+--------------------+\n",
      "\n"
     ]
    }
   ],
   "source": [
    "user_recs.show()"
   ]
  },
  {
   "cell_type": "code",
   "execution_count": 33,
   "id": "8350f282",
   "metadata": {},
   "outputs": [],
   "source": [
    "# 추천결과를 파이썬 객체로 받아오기\n",
    "movies_lst = user_recs.collect()[0].recommendations"
   ]
  },
  {
   "cell_type": "code",
   "execution_count": 34,
   "id": "c93550b3",
   "metadata": {},
   "outputs": [
    {
     "data": {
      "text/plain": [
       "[Row(movieId=3881, rating=5.4032673835754395),\n",
       " Row(movieId=4855, rating=5.235652923583984),\n",
       " Row(movieId=714, rating=5.144252777099609),\n",
       " Row(movieId=158972, rating=5.112921237945557),\n",
       " Row(movieId=4102, rating=5.088891983032227)]"
      ]
     },
     "execution_count": 34,
     "metadata": {},
     "output_type": "execute_result"
    }
   ],
   "source": [
    "movies_lst"
   ]
  },
  {
   "cell_type": "code",
   "execution_count": 36,
   "id": "f3556db6",
   "metadata": {},
   "outputs": [
    {
     "name": "stdout",
     "output_type": "stream",
     "text": [
      "+-------+------------------+\n",
      "|movieId|            rating|\n",
      "+-------+------------------+\n",
      "|   3881|5.4032673835754395|\n",
      "|   4855| 5.235652923583984|\n",
      "|    714| 5.144252777099609|\n",
      "| 158972| 5.112921237945557|\n",
      "|   4102| 5.088891983032227|\n",
      "+-------+------------------+\n",
      "\n"
     ]
    }
   ],
   "source": [
    "# movies_lst 에 대한 데이터프레임 생성\n",
    "recs_df = ss.createDataFrame(movies_lst)\n",
    "recs_df.show()"
   ]
  },
  {
   "cell_type": "code",
   "execution_count": 37,
   "id": "3fc6f26d",
   "metadata": {},
   "outputs": [
    {
     "ename": "TypeError",
     "evalue": "csv() got an unexpected keyword argument 'InferSchema'",
     "output_type": "error",
     "traceback": [
      "\u001b[1;31m---------------------------------------------------------------------------\u001b[0m",
      "\u001b[1;31mTypeError\u001b[0m                                 Traceback (most recent call last)",
      "\u001b[1;32m<ipython-input-37-87d2c4fa1ead>\u001b[0m in \u001b[0;36m<module>\u001b[1;34m\u001b[0m\n\u001b[0;32m      1\u001b[0m \u001b[1;31m# [+] 영화 데이터에 대한 데이터프레임 생성\u001b[0m\u001b[1;33m\u001b[0m\u001b[1;33m\u001b[0m\u001b[1;33m\u001b[0m\u001b[0m\n\u001b[1;32m----> 2\u001b[1;33m \u001b[0mmovies_df\u001b[0m\u001b[1;33m=\u001b[0m\u001b[0mss\u001b[0m\u001b[1;33m.\u001b[0m\u001b[0mread\u001b[0m\u001b[1;33m.\u001b[0m\u001b[0mcsv\u001b[0m\u001b[1;33m(\u001b[0m\u001b[1;34m'./data/movies_short.csv'\u001b[0m\u001b[1;33m,\u001b[0m \u001b[0mheader\u001b[0m\u001b[1;33m=\u001b[0m\u001b[1;32mTrue\u001b[0m\u001b[1;33m,\u001b[0m \u001b[0mInferSchema\u001b[0m\u001b[1;33m=\u001b[0m\u001b[1;32mTrue\u001b[0m\u001b[1;33m)\u001b[0m\u001b[1;33m\u001b[0m\u001b[1;33m\u001b[0m\u001b[0m\n\u001b[0m",
      "\u001b[1;31mTypeError\u001b[0m: csv() got an unexpected keyword argument 'InferSchema'"
     ]
    }
   ],
   "source": [
    "# [+] 영화 데이터에 대한 데이터프레임 생성\n",
    "movies_df=ss.read.csv('./data/movies_short.csv', header=True, InferSchema=True)"
   ]
  },
  {
   "cell_type": "code",
   "execution_count": 38,
   "id": "99a29cfa",
   "metadata": {},
   "outputs": [
    {
     "ename": "NameError",
     "evalue": "name 'movies_df' is not defined",
     "output_type": "error",
     "traceback": [
      "\u001b[1;31m---------------------------------------------------------------------------\u001b[0m",
      "\u001b[1;31mNameError\u001b[0m                                 Traceback (most recent call last)",
      "\u001b[1;32m<ipython-input-38-8de17b1de9dc>\u001b[0m in \u001b[0;36m<module>\u001b[1;34m\u001b[0m\n\u001b[1;32m----> 1\u001b[1;33m \u001b[0mmovies_df\u001b[0m\u001b[1;33m.\u001b[0m\u001b[0mshow\u001b[0m\u001b[1;33m(\u001b[0m\u001b[1;33m)\u001b[0m\u001b[1;33m\u001b[0m\u001b[1;33m\u001b[0m\u001b[0m\n\u001b[0m",
      "\u001b[1;31mNameError\u001b[0m: name 'movies_df' is not defined"
     ]
    }
   ],
   "source": [
    "movies_df.show()"
   ]
  },
  {
   "cell_type": "code",
   "execution_count": 39,
   "id": "86ca10b6",
   "metadata": {},
   "outputs": [
    {
     "ename": "NameError",
     "evalue": "name 'movies_df' is not defined",
     "output_type": "error",
     "traceback": [
      "\u001b[1;31m---------------------------------------------------------------------------\u001b[0m",
      "\u001b[1;31mNameError\u001b[0m                                 Traceback (most recent call last)",
      "\u001b[1;32m<ipython-input-39-dd509009dc51>\u001b[0m in \u001b[0;36m<module>\u001b[1;34m\u001b[0m\n\u001b[0;32m      1\u001b[0m \u001b[1;31m# [+] recs_df, movies_df 에 대한 Temporary View 생성\u001b[0m\u001b[1;33m\u001b[0m\u001b[1;33m\u001b[0m\u001b[1;33m\u001b[0m\u001b[0m\n\u001b[0;32m      2\u001b[0m \u001b[0mrecs_df\u001b[0m\u001b[1;33m.\u001b[0m\u001b[0mcreateOrReplaceTempView\u001b[0m\u001b[1;33m(\u001b[0m\u001b[1;34m'recommendation'\u001b[0m\u001b[1;33m)\u001b[0m\u001b[1;33m\u001b[0m\u001b[1;33m\u001b[0m\u001b[0m\n\u001b[1;32m----> 3\u001b[1;33m \u001b[0mmovies_df\u001b[0m\u001b[1;33m.\u001b[0m\u001b[0mcreateOrReplaceTempView\u001b[0m\u001b[1;33m(\u001b[0m\u001b[1;34m'movie'\u001b[0m\u001b[1;33m)\u001b[0m\u001b[1;33m\u001b[0m\u001b[1;33m\u001b[0m\u001b[0m\n\u001b[0m",
      "\u001b[1;31mNameError\u001b[0m: name 'movies_df' is not defined"
     ]
    }
   ],
   "source": [
    "# [+] recs_df, movies_df 에 대한 Temporary View 생성\n",
    "recs_df.createOrReplaceTempView('recommendation')\n",
    "movies_df.createOrReplaceTempView('movie')"
   ]
  },
  {
   "cell_type": "code",
   "execution_count": 41,
   "id": "1cd2c601",
   "metadata": {},
   "outputs": [
    {
     "ename": "AnalysisException",
     "evalue": "Table or view not found: movies; line 1 pos 14;\n'Sort ['rating DESC NULLS LAST], true\n+- 'Project [*]\n   +- 'Join Inner, ('movies.movieID = 'recommendations.movieID)\n      :- 'UnresolvedRelation [movies], [], false\n      +- 'UnresolvedRelation [recommendations], [], false\n",
     "output_type": "error",
     "traceback": [
      "\u001b[1;31m---------------------------------------------------------------------------\u001b[0m",
      "\u001b[1;31mAnalysisException\u001b[0m                         Traceback (most recent call last)",
      "\u001b[1;32m<ipython-input-41-eec3228b1967>\u001b[0m in \u001b[0;36m<module>\u001b[1;34m\u001b[0m\n\u001b[0;32m      1\u001b[0m \u001b[1;31m# [+] SQL JOIN 연산을 통해 추천된 영화 제목 받아오기\u001b[0m\u001b[1;33m\u001b[0m\u001b[1;33m\u001b[0m\u001b[1;33m\u001b[0m\u001b[0m\n\u001b[1;32m----> 2\u001b[1;33m ss.sql(\"SELECT * FROM movies \\\n\u001b[0m\u001b[0;32m      3\u001b[0m         \u001b[0mJOIN\u001b[0m \u001b[0mrecommendations\u001b[0m \u001b[0mON\u001b[0m \u001b[0mmovies\u001b[0m\u001b[1;33m.\u001b[0m\u001b[0mmovieID\u001b[0m \u001b[1;33m=\u001b[0m \u001b[0mrecommendations\u001b[0m\u001b[1;33m.\u001b[0m\u001b[0mmovieID\u001b[0m\u001b[0;31m \u001b[0m\u001b[0;31m\\\u001b[0m\u001b[1;33m\u001b[0m\u001b[1;33m\u001b[0m\u001b[0m\n\u001b[0;32m      4\u001b[0m         ORDER BY rating DESC\").toPandas()\n",
      "\u001b[1;32m~\\anaconda3\\lib\\site-packages\\pyspark\\sql\\session.py\u001b[0m in \u001b[0;36msql\u001b[1;34m(self, sqlQuery)\u001b[0m\n\u001b[0;32m    721\u001b[0m         \u001b[1;33m[\u001b[0m\u001b[0mRow\u001b[0m\u001b[1;33m(\u001b[0m\u001b[0mf1\u001b[0m\u001b[1;33m=\u001b[0m\u001b[1;36m1\u001b[0m\u001b[1;33m,\u001b[0m \u001b[0mf2\u001b[0m\u001b[1;33m=\u001b[0m\u001b[1;34m'row1'\u001b[0m\u001b[1;33m)\u001b[0m\u001b[1;33m,\u001b[0m \u001b[0mRow\u001b[0m\u001b[1;33m(\u001b[0m\u001b[0mf1\u001b[0m\u001b[1;33m=\u001b[0m\u001b[1;36m2\u001b[0m\u001b[1;33m,\u001b[0m \u001b[0mf2\u001b[0m\u001b[1;33m=\u001b[0m\u001b[1;34m'row2'\u001b[0m\u001b[1;33m)\u001b[0m\u001b[1;33m,\u001b[0m \u001b[0mRow\u001b[0m\u001b[1;33m(\u001b[0m\u001b[0mf1\u001b[0m\u001b[1;33m=\u001b[0m\u001b[1;36m3\u001b[0m\u001b[1;33m,\u001b[0m \u001b[0mf2\u001b[0m\u001b[1;33m=\u001b[0m\u001b[1;34m'row3'\u001b[0m\u001b[1;33m)\u001b[0m\u001b[1;33m]\u001b[0m\u001b[1;33m\u001b[0m\u001b[1;33m\u001b[0m\u001b[0m\n\u001b[0;32m    722\u001b[0m         \"\"\"\n\u001b[1;32m--> 723\u001b[1;33m         \u001b[1;32mreturn\u001b[0m \u001b[0mDataFrame\u001b[0m\u001b[1;33m(\u001b[0m\u001b[0mself\u001b[0m\u001b[1;33m.\u001b[0m\u001b[0m_jsparkSession\u001b[0m\u001b[1;33m.\u001b[0m\u001b[0msql\u001b[0m\u001b[1;33m(\u001b[0m\u001b[0msqlQuery\u001b[0m\u001b[1;33m)\u001b[0m\u001b[1;33m,\u001b[0m \u001b[0mself\u001b[0m\u001b[1;33m.\u001b[0m\u001b[0m_wrapped\u001b[0m\u001b[1;33m)\u001b[0m\u001b[1;33m\u001b[0m\u001b[1;33m\u001b[0m\u001b[0m\n\u001b[0m\u001b[0;32m    724\u001b[0m \u001b[1;33m\u001b[0m\u001b[0m\n\u001b[0;32m    725\u001b[0m     \u001b[1;32mdef\u001b[0m \u001b[0mtable\u001b[0m\u001b[1;33m(\u001b[0m\u001b[0mself\u001b[0m\u001b[1;33m,\u001b[0m \u001b[0mtableName\u001b[0m\u001b[1;33m)\u001b[0m\u001b[1;33m:\u001b[0m\u001b[1;33m\u001b[0m\u001b[1;33m\u001b[0m\u001b[0m\n",
      "\u001b[1;32m~\\anaconda3\\lib\\site-packages\\py4j\\java_gateway.py\u001b[0m in \u001b[0;36m__call__\u001b[1;34m(self, *args)\u001b[0m\n\u001b[0;32m   1319\u001b[0m \u001b[1;33m\u001b[0m\u001b[0m\n\u001b[0;32m   1320\u001b[0m         \u001b[0manswer\u001b[0m \u001b[1;33m=\u001b[0m \u001b[0mself\u001b[0m\u001b[1;33m.\u001b[0m\u001b[0mgateway_client\u001b[0m\u001b[1;33m.\u001b[0m\u001b[0msend_command\u001b[0m\u001b[1;33m(\u001b[0m\u001b[0mcommand\u001b[0m\u001b[1;33m)\u001b[0m\u001b[1;33m\u001b[0m\u001b[1;33m\u001b[0m\u001b[0m\n\u001b[1;32m-> 1321\u001b[1;33m         return_value = get_return_value(\n\u001b[0m\u001b[0;32m   1322\u001b[0m             answer, self.gateway_client, self.target_id, self.name)\n\u001b[0;32m   1323\u001b[0m \u001b[1;33m\u001b[0m\u001b[0m\n",
      "\u001b[1;32m~\\anaconda3\\lib\\site-packages\\pyspark\\sql\\utils.py\u001b[0m in \u001b[0;36mdeco\u001b[1;34m(*a, **kw)\u001b[0m\n\u001b[0;32m    115\u001b[0m                 \u001b[1;31m# Hide where the exception came from that shows a non-Pythonic\u001b[0m\u001b[1;33m\u001b[0m\u001b[1;33m\u001b[0m\u001b[1;33m\u001b[0m\u001b[0m\n\u001b[0;32m    116\u001b[0m                 \u001b[1;31m# JVM exception message.\u001b[0m\u001b[1;33m\u001b[0m\u001b[1;33m\u001b[0m\u001b[1;33m\u001b[0m\u001b[0m\n\u001b[1;32m--> 117\u001b[1;33m                 \u001b[1;32mraise\u001b[0m \u001b[0mconverted\u001b[0m \u001b[1;32mfrom\u001b[0m \u001b[1;32mNone\u001b[0m\u001b[1;33m\u001b[0m\u001b[1;33m\u001b[0m\u001b[0m\n\u001b[0m\u001b[0;32m    118\u001b[0m             \u001b[1;32melse\u001b[0m\u001b[1;33m:\u001b[0m\u001b[1;33m\u001b[0m\u001b[1;33m\u001b[0m\u001b[0m\n\u001b[0;32m    119\u001b[0m                 \u001b[1;32mraise\u001b[0m\u001b[1;33m\u001b[0m\u001b[1;33m\u001b[0m\u001b[0m\n",
      "\u001b[1;31mAnalysisException\u001b[0m: Table or view not found: movies; line 1 pos 14;\n'Sort ['rating DESC NULLS LAST], true\n+- 'Project [*]\n   +- 'Join Inner, ('movies.movieID = 'recommendations.movieID)\n      :- 'UnresolvedRelation [movies], [], false\n      +- 'UnresolvedRelation [recommendations], [], false\n"
     ]
    }
   ],
   "source": [
    "# [+] SQL JOIN 연산을 통해 추천된 영화 제목 받아오기\n",
    "ss.sql(\"SELECT * FROM movies \\\n",
    "        JOIN recommendations ON movies.movieID = recommendations.movieID \\\n",
    "        ORDER BY rating DESC\").toPandas()"
   ]
  },
  {
   "cell_type": "code",
   "execution_count": null,
   "id": "1f643846",
   "metadata": {},
   "outputs": [],
   "source": [
    "\"\"\"\n",
    "    유저 별 영화 추천 서비스를 함수로 정의하기\n",
    "    1. 쿼리문 작성\n",
    "    2. 추천 함수 작성\n",
    "\"\"\"\n",
    "\n",
    "query = \"\"\"\n",
    "SELECT * \n",
    "FROM movies\n",
    "JOIN recommendations ON movies.movieID = recommendations.movieID \\\n",
    "ORDER BY rating DESC\n",
    "\"\"\""
   ]
  },
  {
   "cell_type": "code",
   "execution_count": null,
   "id": "58e155d2",
   "metadata": {},
   "outputs": [],
   "source": [
    "def get_recommendations(user_id, num_recs):\n",
    "    users_df = ss.createDataFrame([user_id], IntegerType()).toDF('userID')\n",
    "    users_recs_df = model.recommendForUserSubset(users_df, num_recs)\n",
    "    \n",
    "    recs_lst = users_recs_df.collect()[0].recommendations\n",
    "    recs_df = ss.createDataFrame(recs_lst)\n",
    "    recommended_movies = ss.sql(query)\n",
    "    return recommended_movies"
   ]
  },
  {
   "cell_type": "code",
   "execution_count": null,
   "id": "4887bf42",
   "metadata": {},
   "outputs": [],
   "source": [
    "# 1번 유저에 대한 영화추천\n",
    "recs = get_recommendations(1, 5)"
   ]
  },
  {
   "cell_type": "code",
   "execution_count": null,
   "id": "c7bcdf7c",
   "metadata": {},
   "outputs": [],
   "source": [
    "# toPandas(): Pandas 데이터프레임으로 출력\n",
    "recs.toPandas()"
   ]
  },
  {
   "cell_type": "code",
   "execution_count": null,
   "id": "0252eda6",
   "metadata": {},
   "outputs": [],
   "source": []
  }
 ],
 "metadata": {
  "kernelspec": {
   "display_name": "Python 3",
   "language": "python",
   "name": "python3"
  },
  "language_info": {
   "codemirror_mode": {
    "name": "ipython",
    "version": 3
   },
   "file_extension": ".py",
   "mimetype": "text/x-python",
   "name": "python",
   "nbconvert_exporter": "python",
   "pygments_lexer": "ipython3",
   "version": "3.8.8"
  }
 },
 "nbformat": 4,
 "nbformat_minor": 5
}
